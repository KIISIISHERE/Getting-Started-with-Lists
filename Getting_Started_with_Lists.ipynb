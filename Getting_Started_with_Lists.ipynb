{
  "nbformat": 4,
  "nbformat_minor": 0,
  "metadata": {
    "colab": {
      "provenance": [],
      "authorship_tag": "ABX9TyOuoTslLpvsXBtBeeSnVmQ3",
      "include_colab_link": true
    },
    "kernelspec": {
      "name": "python3",
      "display_name": "Python 3"
    },
    "language_info": {
      "name": "python"
    }
  },
  "cells": [
    {
      "cell_type": "markdown",
      "metadata": {
        "id": "view-in-github",
        "colab_type": "text"
      },
      "source": [
        "<a href=\"https://colab.research.google.com/github/KIISIISHERE/Getting-Started-with-Lists/blob/main/Getting_Started_with_Lists.ipynb\" target=\"_parent\"><img src=\"https://colab.research.google.com/assets/colab-badge.svg\" alt=\"Open In Colab\"/></a>"
      ]
    },
    {
      "cell_type": "code",
      "execution_count": 9,
      "metadata": {
        "colab": {
          "base_uri": "https://localhost:8080/"
        },
        "collapsed": true,
        "id": "Gv3tI0d2uX7O",
        "outputId": "737d19a7-0430-4a0b-bfd7-a1f06ab40742"
      },
      "outputs": [
        {
          "output_type": "stream",
          "name": "stdout",
          "text": [
            "[]\n",
            "[1, 2, 3, 4, 5]\n",
            "[1, 2, 3, 1, 2, 3, 1, 2, 3]\n",
            "[500, 400, 300, 200, 100] \n",
            "\n"
          ]
        }
      ],
      "source": [
        "#Create an empty list\n",
        "empty_list = []\n",
        "print(empty_list)\n",
        "# A list of numbers\n",
        "numbers = [1, 2, 3, 4, 5]\n",
        "print(numbers)\n",
        "# Use * operator\n",
        "triples = [1, 2, 3] * 3\n",
        "print(triples)\n",
        "#reverse the given list\n",
        "aList = [100, 200, 300, 400, 500]\n",
        "aList = aList[::-1]\n",
        "print(aList,\"\\n\")\n",
        "\n"
      ]
    },
    {
      "cell_type": "code",
      "source": [
        "# function to check whether\n",
        "# first and last character of words match\n",
        "def match_words(words):\n",
        "  ctr = 0\n",
        "  lst = []\n",
        "  for word in words:\n",
        "    if len(word) > 1 and word[0] == word[-1]:\n",
        "      ctr += 1\n",
        "      lst.append(word)\n",
        "  print(\"List of words with first and last character same/n\", lst)\n",
        "  return ctr\n",
        "# Ask the user for input\n",
        "user_input = input(\"Enter words seperated by spaces: \")\n",
        "words_list = user_input.split()\n",
        "count = match_words(words_list)\n",
        "print(\"Number of words having first and last character same:\", count)\n",
        "# Call the function and print the result\n",
        "print(match_words(words_list))"
      ],
      "metadata": {
        "colab": {
          "base_uri": "https://localhost:8080/"
        },
        "id": "ErqrO4pj0A11",
        "outputId": "654e4698-d2a0-4e62-ac26-4b91e21ebd70"
      },
      "execution_count": 14,
      "outputs": [
        {
          "output_type": "stream",
          "name": "stdout",
          "text": [
            "Enter words seperated by spaces: MUM DAD CAT DOG RABBIT JESUS I💖GOD NOTHING CAN STOP ME\n",
            "List of words with first and last character same/n ['MUM', 'DAD']\n",
            "Number of words having first and last character same: 2\n",
            "List of words with first and last character same/n ['MUM', 'DAD']\n",
            "2\n"
          ]
        }
      ]
    }
  ]
}